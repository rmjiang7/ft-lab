{
 "cells": [
  {
   "cell_type": "code",
   "execution_count": null,
   "id": "d27824bd-bafc-4ba7-b5ba-b976c05a9206",
   "metadata": {},
   "outputs": [],
   "source": [
    "# https://huggingface.co/stabilityai/stable-diffusion-2-1\n",
    "from diffusers import StableDiffusionPipeline, EulerDiscreteScheduler\n",
    "import torch\n",
    "\n",
    "model_id = \"stabilityai/stable-diffusion-2-1\""
   ]
  },
  {
   "cell_type": "code",
   "execution_count": null,
   "id": "d2807a4a-0607-4cee-a1f2-3c8c6410b1c4",
   "metadata": {
    "scrolled": true
   },
   "outputs": [],
   "source": [
    "scheduler = EulerDiscreteScheduler.from_pretrained(\n",
    "    model_id, \n",
    "    subfolder=\"scheduler\"\n",
    ")\n",
    "\n",
    "pipe = StableDiffusionPipeline.from_pretrained(\n",
    "    model_id, \n",
    "    scheduler=scheduler, \n",
    "    torch_dtype=torch.float16)\n",
    "pipe = pipe.to(\"cuda\")"
   ]
  },
  {
   "cell_type": "code",
   "execution_count": null,
   "id": "28aa1bf5-0458-46b4-a33b-f52583b4a881",
   "metadata": {},
   "outputs": [],
   "source": [
    "prompt = \"a photo of an astronaut riding a horse on mars\"\n",
    "image = pipe(prompt).images[0]  \n",
    "image.show()"
   ]
  }
 ],
 "metadata": {
  "kernelspec": {
   "display_name": "Python 3 (ipykernel)",
   "language": "python",
   "name": "python3"
  },
  "language_info": {
   "codemirror_mode": {
    "name": "ipython",
    "version": 3
   },
   "file_extension": ".py",
   "mimetype": "text/x-python",
   "name": "python",
   "nbconvert_exporter": "python",
   "pygments_lexer": "ipython3",
   "version": "3.10.12"
  }
 },
 "nbformat": 4,
 "nbformat_minor": 5
}
