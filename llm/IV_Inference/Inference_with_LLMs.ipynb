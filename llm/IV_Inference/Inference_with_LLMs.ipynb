{
 "cells": [
  {
   "cell_type": "code",
   "execution_count": null,
   "id": "9317e09b-b9d2-496a-9e44-f838fc2eb2a2",
   "metadata": {},
   "outputs": [],
   "source": [
    "from peft import AutoPeftModelForCausalLM\n",
    "import torch\n",
    "from transformers import AutoModelForCausalLM, AutoTokenizer"
   ]
  },
  {
   "cell_type": "markdown",
   "id": "1516ac52-6452-49a0-a169-8488272cae71",
   "metadata": {},
   "source": [
    "### Inference from a Pre-trained or Fine-tuned Model"
   ]
  },
  {
   "cell_type": "code",
   "execution_count": null,
   "id": "fc9ae440-cdd7-4ef9-bc61-5f71acdf5564",
   "metadata": {},
   "outputs": [],
   "source": [
    "model_path_or_id = \"NousResearch/Llama-2-7b-hf\"\n",
    "lora_path = None"
   ]
  },
  {
   "cell_type": "code",
   "execution_count": null,
   "id": "b956a798-e567-4e97-ba23-bee1b653b957",
   "metadata": {},
   "outputs": [],
   "source": [
    "if lora_path:\n",
    "    # load base LLM model with PEFT Adapter\n",
    "    model = AutoPeftModelForCausalLM.from_pretrained(\n",
    "        lora_path,\n",
    "        low_cpu_mem_usage=True,\n",
    "        torch_dtype=torch.float16,\n",
    "        load_in_4bit=True,\n",
    "    )\n",
    "    tokenizer = AutoTokenizer.from_pretrained(lora_path)\n",
    "else:\n",
    "    model = AutoModelForCausalLM.from_pretrained(\n",
    "        model_path_or_id,\n",
    "        low_cpu_mem_usage=True,\n",
    "        torch_dtype=torch.float16,\n",
    "        load_in_4bit=True\n",
    "    )\n",
    "    tokenizer = AutoTokenizer.from_pretrained(model_path_or_id)"
   ]
  },
  {
   "cell_type": "code",
   "execution_count": null,
   "id": "d4a0d916-c9d3-4544-a2a4-6cb08877eefa",
   "metadata": {},
   "outputs": [],
   "source": [
    "# Prepare the input for for tokenization, attach any prompt that should be needed\n",
    "PROMPT_TEMPLATE = \"\"\"### Instruction:\n",
    "Use the following Input and come up with a structured response.\n",
    "\n",
    "### Input:\n",
    "{instruction}\n",
    "\n",
    "### Response:\n",
    "\"\"\"\n",
    "instruction = \"Tell me all of the moon phases.\"\n",
    "\n",
    "# Tokenize the input\n",
    "input_ids = tokenizer(\n",
    "    PROMPT_TEMPLATE.format(instruction=instruction), \n",
    "    return_tensors=\"pt\", \n",
    "    truncation=True).input_ids.cuda()\n",
    "\n",
    "# Generate new tokens based on the prompt, up to max_new_tokens\n",
    "# Sample aacording to the parameter\n",
    "with torch.inference_mode():\n",
    "    outputs = model.generate(\n",
    "        input_ids=input_ids, \n",
    "        max_new_tokens=100, \n",
    "        do_sample=True, \n",
    "        top_p=0.9,\n",
    "        temperature=0.9,\n",
    "        use_cache=True\n",
    "    )\n",
    "\n",
    "print(f\"Prompt:\\n{instruction}\\n\")\n",
    "print(f\"Generated Response:\\n{tokenizer.batch_decode(outputs.detach().cpu().numpy(), skip_special_tokens=True)[0][len(PROMPT_TEMPLATE.format(instruction=instruction)):]}\")"
   ]
  },
  {
   "cell_type": "code",
   "execution_count": null,
   "id": "33f38c58-2b81-40a7-b342-aa1ba9040ca8",
   "metadata": {},
   "outputs": [],
   "source": []
  }
 ],
 "metadata": {
  "kernelspec": {
   "display_name": "Python 3 (ipykernel)",
   "language": "python",
   "name": "python3"
  },
  "language_info": {
   "codemirror_mode": {
    "name": "ipython",
    "version": 3
   },
   "file_extension": ".py",
   "mimetype": "text/x-python",
   "name": "python",
   "nbconvert_exporter": "python",
   "pygments_lexer": "ipython3",
   "version": "3.10.12"
  }
 },
 "nbformat": 4,
 "nbformat_minor": 5
}
