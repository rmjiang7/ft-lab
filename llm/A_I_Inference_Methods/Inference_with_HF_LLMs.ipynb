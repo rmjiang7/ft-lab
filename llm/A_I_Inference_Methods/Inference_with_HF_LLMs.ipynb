{
 "cells": [
  {
   "cell_type": "code",
   "execution_count": null,
   "id": "9317e09b-b9d2-496a-9e44-f838fc2eb2a2",
   "metadata": {},
   "outputs": [],
   "source": [
    "from peft import AutoPeftModelForCausalLM\n",
    "import torch\n",
    "from transformers import AutoModelForCausalLM, AutoTokenizer"
   ]
  },
  {
   "cell_type": "markdown",
   "id": "1516ac52-6452-49a0-a169-8488272cae71",
   "metadata": {},
   "source": [
    "### Inference from a Pre-trained or Fine-tuned Model"
   ]
  },
  {
   "cell_type": "code",
   "execution_count": null,
   "id": "fc9ae440-cdd7-4ef9-bc61-5f71acdf5564",
   "metadata": {},
   "outputs": [],
   "source": [
    "model_path_or_id = \"mistralai/Mistral-7B-v0.1\"\n",
    "lora_path = None"
   ]
  },
  {
   "cell_type": "code",
   "execution_count": null,
   "id": "b956a798-e567-4e97-ba23-bee1b653b957",
   "metadata": {},
   "outputs": [],
   "source": [
    "if lora_path:\n",
    "    # load base LLM model with PEFT Adapter\n",
    "    model = AutoPeftModelForCausalLM.from_pretrained(\n",
    "        lora_path,\n",
    "        low_cpu_mem_usage=True,\n",
    "        torch_dtype=torch.float16,\n",
    "        bnb_4bit_compute_dtype=torch.float16,\n",
    "        use_flash_attention_2=True,\n",
    "        load_in_4bit=True,\n",
    "    )\n",
    "    tokenizer = AutoTokenizer.from_pretrained(lora_path)\n",
    "else:\n",
    "    model = AutoModelForCausalLM.from_pretrained(\n",
    "        model_path_or_id,\n",
    "        low_cpu_mem_usage=True,\n",
    "        torch_dtype=torch.float16,\n",
    "        bnb_4bit_compute_dtype=torch.float16,\n",
    "        use_flash_attention_2=True,\n",
    "        load_in_4bit=True\n",
    "    )\n",
    "    tokenizer = AutoTokenizer.from_pretrained(model_path_or_id)"
   ]
  },
  {
   "cell_type": "code",
   "execution_count": null,
   "id": "d4a0d916-c9d3-4544-a2a4-6cb08877eefa",
   "metadata": {},
   "outputs": [],
   "source": [
    "PROMPT_TEMPLATE = \"\"\"### System\n",
    "You are an information extraction system.  Use only the Context provide below to answer the Question.\n",
    "\n",
    "### Context\n",
    "{context}\n",
    "\n",
    "### Question\n",
    "{question}\n",
    "\n",
    "### Response\n",
    "\"\"\"\n",
    "\n",
    "context = \"\"\"\n",
    "Capitals of the world:\n",
    "\n",
    "USA : Washington D.C.\n",
    "Japan : Paris\n",
    "France : Tokyo\n",
    "\"\"\"\n",
    "question = \"What is the capital of Japan?\"\n",
    "prompt = PROMPT_TEMPLATE.format(context=context, question=question)\n",
    "\n",
    "# Tokenize the input\n",
    "input_ids = tokenizer(\n",
    "    prompt,\n",
    "    return_tensors=\"pt\", \n",
    "    truncation=True).input_ids.cuda()\n",
    "\n",
    "# Generate new tokens based on the prompt, up to max_new_tokens\n",
    "# Sample aacording to the parameter\n",
    "with torch.inference_mode():\n",
    "    outputs = model.generate(\n",
    "        input_ids=input_ids, \n",
    "        max_new_tokens=100, \n",
    "        do_sample=True, \n",
    "        top_p=0.9,\n",
    "        temperature=0.9,\n",
    "        use_cache=True\n",
    "    )\n",
    "\n",
    "print(f\"Question:\\n{question}\\n\")\n",
    "print(f\"Generated Response:\\n{tokenizer.batch_decode(outputs.detach().cpu().numpy(), skip_special_tokens=True)[0][len(prompt):]}\")"
   ]
  }
 ],
 "metadata": {
  "kernelspec": {
   "display_name": "Python 3 (ipykernel)",
   "language": "python",
   "name": "python3"
  },
  "language_info": {
   "codemirror_mode": {
    "name": "ipython",
    "version": 3
   },
   "file_extension": ".py",
   "mimetype": "text/x-python",
   "name": "python",
   "nbconvert_exporter": "python",
   "pygments_lexer": "ipython3",
   "version": "3.10.13"
  }
 },
 "nbformat": 4,
 "nbformat_minor": 5
}
