{
 "cells": [
  {
   "cell_type": "code",
   "execution_count": null,
   "metadata": {},
   "outputs": [],
   "source": [
    "import time\n",
    "import random\n",
    "from typing import Dict"
   ]
  },
  {
   "attachments": {},
   "cell_type": "markdown",
   "metadata": {},
   "source": [
    "# Instruction Finetuning LLMs with QLoRA for RAG\n",
    "\n",
    "Large Language Models are typically trained as models that simply predict the next word in a sequence.  While this leads to very powerful machines, they don't typically come equipped to deal with certain behaviors, such as following instructions.  In this lab, we will demonstrate how to fine tune a base Large Language Model to better respond to instructions with context, which is a requirement for RAG.  By fine tuning the model in this way, we can teach it to stop better, hallucinate less, and generally behave in a more desirable way.\n",
    "\n",
    "## **Important Note**\n",
    "\n",
    "***We are finetuning a base model for RAG for instructional purposes on how finetuning can change the behavior of models. In practice, many models provide instruction fine-tuned models which will give better results than we can produce here for RAG because they are trained on many more data examples. For example (mistralai/Mistral-7B-v0.1 vs mistralai/Mistral-7B-Instruct-v0.1) and (meta-llama/Llama-2-7b-hf vs. meta-llama/Llama-2-7b-chat-hf). Try and get the best performance out of the finetuning but don't expect it to work perfectly..***\n",
    "\n",
    "- [Preparing the Dataset](#preparing-the-dataset)\n",
    "- [Selecting the Base Pre-trained Model](#selecting-the-base-pre-trained-model)\n",
    "- [Finetuning the Model](#finetuning-the-model)"
   ]
  },
  {
   "attachments": {},
   "cell_type": "markdown",
   "metadata": {},
   "source": [
    "## Preparing the Dataset\n",
    "\n",
    "Fine-tuning LLMs is primarily used for teaching the model new behavior, such as better responding to instructions, responding with certain tones, or acting more as a conversational chatbot.  \n",
    "\n",
    "The dataset for finetuning LLMs are text entries formatted in the way ***THAT WE WISH FOR AN INTERACTION WITH THE MODEL TO LOOK LIKE***.  For example, if we wish for the model to follow instructions better with context, we should provide a dataset which gives examples of it following instructions provided with context.  **This is almost exactly like few-shot prompting, but reinforcing the behavior even further by actually modifying some of the weights of the model.**"
   ]
  },
  {
   "cell_type": "markdown",
   "metadata": {},
   "source": [
    "A few tips from ChatGPT:\n",
    "\n",
    "Generative Dataset:\n",
    "\n",
    "    1. Include a dataset of input queries or prompts along with human-generated responses. This is your generative dataset.\n",
    "\n",
    "    2. Make sure that the responses are diverse, well-written, and contextually appropriate for the given queries.\n",
    "\n",
    "    3. It's important to have a variety of responses to encourage the model to generate creative and contextually relevant answers.\n",
    "\n",
    "Training Data Quality:\n",
    "\n",
    "    1. Ensure that your training dataset is of high quality and accurately represents the task you are fine-tuning for.\n",
    "\n",
    "    2. Remove any instances that contain incorrect or misleading information.\n",
    "\n",
    "    3. Filter out instances in your training data where the model is likely to hallucinate or generate incorrect information.\n",
    "\n",
    "    4. Manually review and filter out examples that may lead to misinformation.\n",
    "\n",
    "    5. Use data augmentation techniques to artificially increase the diversity of your dataset. However, be cautious with augmentation to ensure that the generated samples remain contextually relevant and accurate.\n",
    "```"
   ]
  },
  {
   "cell_type": "markdown",
   "metadata": {},
   "source": [
    "### Dataset using `datasets`\n",
    "\n",
    "The dataset that we will be using for instruction fine-tuning is a dataset hand-curated by databricks for instruction following called \"dolly-15k\"."
   ]
  },
  {
   "cell_type": "code",
   "execution_count": null,
   "metadata": {},
   "outputs": [],
   "source": [
    "from datasets import load_dataset, Dataset\n",
    "import pandas as pd\n",
    "\n",
    "def load_modified_dataset():\n",
    "    dataset = load_dataset(\"databricks/databricks-dolly-15k\", split = \"train\")\n",
    "    df = dataset.to_pandas()\n",
    "    df['keep'] = True\n",
    "    \n",
    "    # Keep entries with correct answer as well\n",
    "    df = df[(df['category'].isin(['closed_qa', 'information_extraction', 'open_qa'])) & df['keep']]\n",
    "    \n",
    "    return Dataset.from_pandas(\n",
    "        df[['instruction', 'context', 'response']], \n",
    "        preserve_index = False)\n",
    "    \n",
    "dataset = load_modified_dataset()\n",
    "# dataset = dataset.select(range(200))"
   ]
  },
  {
   "attachments": {},
   "cell_type": "markdown",
   "metadata": {},
   "source": [
    "The base dataset contains columns for an `instruction`, an optional `context`, and a `response` that we want the bot to respond to.  However, to feed it into the model for finetuning, we need to combine each column so that 1 sample corresponds to 1 example interaction with the model.  \n",
    "\n",
    "This 1 sample should be an example to the LLM about:\n",
    "\n",
    "1. How we wish to interact with the model (prompt)\n",
    "2. How we want the model to respond\n",
    "\n",
    "Remember, these generative LLMs are trained to read in a provided prompt, and essentially auto-complete the text!"
   ]
  },
  {
   "cell_type": "code",
   "execution_count": null,
   "metadata": {},
   "outputs": [],
   "source": [
    "def format_instruction(sample : Dict) -> str:\n",
    "    \"\"\"Combine a row to a single str\"\"\"\n",
    "    return f\"\"\"### Context:\n",
    "{sample['context']}\n",
    "\n",
    "### Question:\n",
    "Using only the context above, {sample['instruction']}\n",
    "\n",
    "### Response:\n",
    "{sample['response']}\n",
    "\"\"\""
   ]
  },
  {
   "attachments": {},
   "cell_type": "markdown",
   "metadata": {},
   "source": [
    "We will provide this as the entire prompt to the model for training, using the Causal Language Modeling objective for loss.\n",
    "\n",
    "```\n",
    "### Context:\n",
    "{context}\n",
    "\n",
    "### Question:\n",
    "Using only the context above, {instruction}\n",
    "\n",
    "### Response:\n",
    "{response}\n",
    "```"
   ]
  },
  {
   "attachments": {},
   "cell_type": "markdown",
   "metadata": {},
   "source": [
    "## Selecting the Base Pre-trained Model\n",
    "\n",
    "Once we have the data, we can select the base model that we would like to fine tune for this behavior.  \n",
    "\n",
    "The model that we will select is the `mistralai/mistral-7b` base model.  This is a 7.3b parameter model, quite small in the grand scheme of LLMs, but one that produces good quality results, especially compared to many other open source models.\n",
    "\n",
    "### Quantization using `bitsandbytes`\n",
    "\n",
    "LLMs are extremely memory intensive.  One trick that is commonly used when working with LLMs to reduce memory usage as well as increase computational speed for both inference and training, is reducing the precision of the weights from full precision 32-bit floating points (fp32) to lower precisions such as int8, fp4, nf4, etc.  This is known as quantization.  Research has shown that quantization often times has minimal impact on the quality of generations, but this is on a case-by-case basis. \n",
    "\n",
    "In this example, we will be quantizing and fine-tuning using normal-float 4 bit (nf4).  In practice, the quantization behind the scenes is handled by the `bitsandbytes` library."
   ]
  },
  {
   "cell_type": "code",
   "execution_count": null,
   "metadata": {},
   "outputs": [],
   "source": [
    "import torch\n",
    "from transformers import AutoTokenizer, AutoModelForCausalLM, BitsAndBytesConfig\n",
    "\n",
    "# Hugging Face Base Model ID\n",
    "model_id = \"mistralai/Mistral-7B-v0.1\"\n",
    "is_peft = False\n",
    "\n",
    "bnb_config = BitsAndBytesConfig(\n",
    "    load_in_4bit=True,\n",
    "    bnb_4bit_use_double_quant=False,\n",
    "    bnb_4bit_quant_type=\"nf4\",\n",
    "    bnb_4bit_compute_dtype=torch.bfloat16\n",
    ")\n",
    "\n",
    "if is_peft:\n",
    "    # load base LLM model with PEFT Adapter\n",
    "    model = AutoPeftModelForCausalLM.from_pretrained(\n",
    "        model_id,\n",
    "        low_cpu_mem_usage=True,\n",
    "        torch_dtype=torch.float16,\n",
    "        use_flash_attention_2=True,\n",
    "        quantization_config = bnb_config\n",
    "    )\n",
    "else:\n",
    "    \n",
    "    model = AutoModelForCausalLM.from_pretrained(\n",
    "        model_id,\n",
    "        low_cpu_mem_usage=True,\n",
    "        torch_dtype=torch.float16,\n",
    "        quantization_config = bnb_config,\n",
    "        use_flash_attention_2=True\n",
    "    )\n",
    "\n",
    "model.config.pretraining_tp = 1\n",
    "\n",
    "tokenizer = AutoTokenizer.from_pretrained(model_id)\n",
    "tokenizer.pad_token = tokenizer.eos_token\n",
    "tokenizer.padding_side = \"right\""
   ]
  },
  {
   "attachments": {},
   "cell_type": "markdown",
   "metadata": {},
   "source": [
    "With the model loaded up, we are ready to finetune using our dataset."
   ]
  },
  {
   "attachments": {},
   "cell_type": "markdown",
   "metadata": {},
   "source": [
    "## Finetuning the Model\n",
    "\n",
    "There are two main ways to finetune a large language model:\n",
    "\n",
    "1. Pre-training/Full Finetuning\n",
    "\n",
    "    In this situation, all of the model weights (all 7b of them) are set to be trainable and tweaked during training.  This can lead to the most dramatic changes in model behavior but is also the most computationally expensive.  \n",
    "    \n",
    "    When initially training the model, also known as pre-training, this is necessarily done and where you see the extreme computational costs show up (i.e. 500 A100 80GB GPUs trained for 10000 hours, etc...).\n",
    "\n",
    "2. Parameter Efficient Fine-Tuning (PEFT)\n",
    "\n",
    "    Parameter efficient finetuning methods are an alternative to full finetuning where, instead of training the parameters of the pre-trained model, a subset of new parameters are trained without touching the base model weights. These new trainable parameters are injected into the model mathematically at different points to change the outcome.  There are a handful of methods that use this approach such as Prompt Tuning, P-Tuning, and Low-Rank Adaptation (LoRA).  For this lab, we will focus on LoRA.  \n",
    "\n",
    "    LoRA methods introduce a set of trainable rank-decomposition matrices (update matrices) which can be used to modify the existing weights of the pre-trained model.  The typical location that these matrices are placed are within the attention layers, so they are not exclusive to LLMs.  The size of these update matrices can be controlled by  setting the desired rank of the matrix (lora_r), with smaller rank corresponding to smaller matrices and thus fewer trainable parameters.   During fine-tuning, only these update matrices are tuned and often times, this makes the total number of trainable parameters a very small fraction of the total number of weights.\n",
    "\n",
    "### Finetuning using `peft`\n",
    "\n",
    "To configure the model for paremeter efficient fine-tuning and LoRA, we will use the `peft` package.  Specifically, we will define our Lora parameters and also set to the taks to `CAUSAL_LM` to train the model for generative purposes.  Because we also quantized the model to 4-bit, we will also be using a state-of-the-art method called Quantized LoRA (QLoRA) to do this training in low precision to save memory.\n"
   ]
  },
  {
   "cell_type": "code",
   "execution_count": null,
   "metadata": {},
   "outputs": [],
   "source": [
    "from peft import LoraConfig, prepare_model_for_kbit_training, get_peft_model\n",
    "\n",
    "if is_peft:\n",
    "    model = prepare_model_for_kbit_training(model)\n",
    "    model._mark_only_adapters_as_trainable()\n",
    "else:\n",
    "    # LoRA config for QLoRA\n",
    "    peft_config = LoraConfig(\n",
    "        lora_alpha=16,\n",
    "        lora_dropout=0.1,\n",
    "        r=8,\n",
    "        bias=\"none\",\n",
    "        task_type=\"CAUSAL_LM\",\n",
    "        target_modules=['v_proj', 'down_proj', 'up_proj', 'o_proj', 'q_proj', 'gate_proj', 'k_proj']\n",
    "    )\n",
    "\n",
    "    # prepare model for training with low-precision\n",
    "    model = prepare_model_for_kbit_training(model)\n",
    "    model = get_peft_model(model, peft_config)"
   ]
  },
  {
   "attachments": {},
   "cell_type": "markdown",
   "metadata": {},
   "source": [
    "### Running the trainer with `trl`\n",
    "\n",
    "Now that we have prepared the data, loaded the model in 4-bit, and configured our LoRA finetuning according to our model, we are ready to train the model. Training of LLMs for generative purposes uses the causal language modeling objective.  Briefly, this specifies that when calculating attention, the model should only be able to consider things \"to the left\".  So for a sentence, it can only decide what to generate by looking at all of the words that came before it.  \n",
    "\n",
    "A very useful wrapper for training transformer based models is the Supervised Fine-Tuning Trainer (`SFTrainer`) provided by the `trl` library.  While the supervised fine tuning is typically used in the context of reinforcement learning, for our purposes, it simply refers to providing the model with examples of input, and response.  All of the actual training, including computing gradients, tweaking the optimizer, batching the data, evaluation will be done behind the scenes using the `SFTrainer` wrapper.  This will conduct the finetuning that we want after we pass in the dataset and hyperparameters.  This is much more efficient and robust than writing our own training code."
   ]
  },
  {
   "cell_type": "code",
   "execution_count": null,
   "metadata": {},
   "outputs": [],
   "source": [
    "from transformers import TrainingArguments\n",
    "from trl import SFTTrainer\n",
    "\n",
    "args = TrainingArguments(\n",
    "    output_dir=\"./mistral-7b-int4-dolly\", \n",
    "    num_train_epochs=1, # number of training epochs\n",
    "    per_device_train_batch_size=5, # batch size per batch\n",
    "    gradient_accumulation_steps=2, # effective batch size\n",
    "    gradient_checkpointing=True, \n",
    "    gradient_checkpointing_kwargs={'use_reentrant':True},\n",
    "    optim=\"paged_adamw_32bit\",\n",
    "    logging_steps=1, # log the training error every 10 steps\n",
    "    save_strategy=\"steps\",\n",
    "    save_total_limit = 2, # save 2 total checkpoints\n",
    "    ignore_data_skip=True,\n",
    "    save_steps=2, # save a checkpoint every 1 steps\n",
    "    learning_rate=1e-3,\n",
    "    bf16=True,\n",
    "    tf32=True,\n",
    "    max_grad_norm=1.0,\n",
    "    warmup_steps=5,\n",
    "    lr_scheduler_type=\"constant\",\n",
    "    disable_tqdm=True\n",
    ")\n",
    "\n",
    "# https://huggingface.co/docs/trl/sft_trainer#packing-dataset--constantlengthdataset-\n",
    "# max seq length for packing\n",
    "max_seq_length = 2048 \n",
    "trainer = SFTTrainer(\n",
    "    model=model,\n",
    "    train_dataset=dataset,\n",
    "    tokenizer=tokenizer,\n",
    "    max_seq_length=max_seq_length,\n",
    "    packing=True,\n",
    "    formatting_func=format_instruction, # our formatting function which takes a dataset row and maps it to str\n",
    "    args=args,\n",
    ")"
   ]
  },
  {
   "attachments": {},
   "cell_type": "markdown",
   "metadata": {},
   "source": [
    "With all of the configuration done, we can now run our training.  On an A10g, this takes about 1 hours to run, after which it will save the LoRA weights to the `mistral-7b-int4-dolly` directory."
   ]
  },
  {
   "cell_type": "code",
   "execution_count": null,
   "metadata": {},
   "outputs": [],
   "source": [
    "start = time.time()\n",
    "trainer.train(resume_from_checkpoint=False) # progress bar is fake due to packing\n",
    "trainer.save_model()\n",
    "end = time.time()\n",
    "print(f\"{end - start}s\")"
   ]
  },
  {
   "attachments": {},
   "cell_type": "markdown",
   "metadata": {},
   "source": [
    "After the model has finished training, it is ready to be used.  Now, hopefully, when the model sees the prompt that we crafted before, it will know how to respond."
   ]
  }
 ],
 "metadata": {
  "kernelspec": {
   "display_name": "Python 3 (ipykernel)",
   "language": "python",
   "name": "python3"
  },
  "language_info": {
   "codemirror_mode": {
    "name": "ipython",
    "version": 3
   },
   "file_extension": ".py",
   "mimetype": "text/x-python",
   "name": "python",
   "nbconvert_exporter": "python",
   "pygments_lexer": "ipython3",
   "version": "3.10.13"
  }
 },
 "nbformat": 4,
 "nbformat_minor": 4
}
